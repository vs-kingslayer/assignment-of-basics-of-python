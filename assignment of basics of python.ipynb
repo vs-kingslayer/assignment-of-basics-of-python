{
 "cells": [
  {
   "cell_type": "markdown",
   "id": "f087765d-d78d-4438-95ae-b5e2ddeeab7e",
   "metadata": {},
   "source": [
    "create one variable containing following type of data"
   ]
  },
  {
   "cell_type": "code",
   "execution_count": 1,
   "id": "388b5c14-fe1e-4bcc-9bd1-bb64931d92a6",
   "metadata": {},
   "outputs": [],
   "source": [
    "a=\"vaibhav\""
   ]
  },
  {
   "cell_type": "code",
   "execution_count": 2,
   "id": "e699858e-13e6-4f71-8ce2-5b7d3c3f538f",
   "metadata": {},
   "outputs": [
    {
     "data": {
      "text/plain": [
       "'vaibhav'"
      ]
     },
     "execution_count": 2,
     "metadata": {},
     "output_type": "execute_result"
    }
   ],
   "source": [
    "a"
   ]
  },
  {
   "cell_type": "code",
   "execution_count": 3,
   "id": "d9c47ed0-9e19-41fe-a921-032a3dfef5a9",
   "metadata": {},
   "outputs": [
    {
     "data": {
      "text/plain": [
       "str"
      ]
     },
     "execution_count": 3,
     "metadata": {},
     "output_type": "execute_result"
    }
   ],
   "source": [
    "type(a)"
   ]
  },
  {
   "cell_type": "code",
   "execution_count": 4,
   "id": "34be907b-c7da-4cf0-9edb-d9e08c1e3a50",
   "metadata": {},
   "outputs": [],
   "source": [
    "l=[2,3,4,5]"
   ]
  },
  {
   "cell_type": "code",
   "execution_count": 5,
   "id": "df229a97-b048-49b9-a8a2-95f0bda6726a",
   "metadata": {},
   "outputs": [
    {
     "data": {
      "text/plain": [
       "[2, 3, 4, 5]"
      ]
     },
     "execution_count": 5,
     "metadata": {},
     "output_type": "execute_result"
    }
   ],
   "source": [
    "l"
   ]
  },
  {
   "cell_type": "code",
   "execution_count": 6,
   "id": "d3589f11-4694-407c-9b70-5c85b076985d",
   "metadata": {},
   "outputs": [
    {
     "data": {
      "text/plain": [
       "list"
      ]
     },
     "execution_count": 6,
     "metadata": {},
     "output_type": "execute_result"
    }
   ],
   "source": [
    "type(l)"
   ]
  },
  {
   "cell_type": "code",
   "execution_count": 7,
   "id": "ef4ff414-878f-40fb-95ee-0fd062c74ab8",
   "metadata": {},
   "outputs": [],
   "source": [
    "b=34.2"
   ]
  },
  {
   "cell_type": "code",
   "execution_count": 8,
   "id": "35ca162d-6dce-4c46-83b4-aac8ab3dc325",
   "metadata": {},
   "outputs": [
    {
     "data": {
      "text/plain": [
       "34.2"
      ]
     },
     "execution_count": 8,
     "metadata": {},
     "output_type": "execute_result"
    }
   ],
   "source": [
    "b"
   ]
  },
  {
   "cell_type": "code",
   "execution_count": 9,
   "id": "959a1c33-65ef-4509-8c23-b9971641f266",
   "metadata": {},
   "outputs": [],
   "source": [
    "t=(1,2,3,4)"
   ]
  },
  {
   "cell_type": "code",
   "execution_count": 10,
   "id": "31f87e3b-9ec8-4d5e-bde6-3e74a7c1cd78",
   "metadata": {},
   "outputs": [
    {
     "data": {
      "text/plain": [
       "(1, 2, 3, 4)"
      ]
     },
     "execution_count": 10,
     "metadata": {},
     "output_type": "execute_result"
    }
   ],
   "source": [
    "t"
   ]
  },
  {
   "cell_type": "code",
   "execution_count": 11,
   "id": "f442da56-3835-4b0c-9a6c-519d457c6a8b",
   "metadata": {},
   "outputs": [
    {
     "data": {
      "text/plain": [
       "tuple"
      ]
     },
     "execution_count": 11,
     "metadata": {},
     "output_type": "execute_result"
    }
   ],
   "source": [
    "type(t)"
   ]
  },
  {
   "cell_type": "markdown",
   "id": "919a9414-296f-4cd6-ba53-20f19d64b990",
   "metadata": {},
   "source": [
    "given are some following variables containing data:\n",
    "what will be the datatype of the above given variable"
   ]
  },
  {
   "cell_type": "code",
   "execution_count": 12,
   "id": "21ba3db9-50f7-41f6-9900-758609fb9c74",
   "metadata": {},
   "outputs": [],
   "source": [
    "var1=''"
   ]
  },
  {
   "cell_type": "code",
   "execution_count": 13,
   "id": "9f371d9e-d18e-4738-9cbd-ca0f041b181f",
   "metadata": {},
   "outputs": [
    {
     "data": {
      "text/plain": [
       "str"
      ]
     },
     "execution_count": 13,
     "metadata": {},
     "output_type": "execute_result"
    }
   ],
   "source": [
    "type(var1)"
   ]
  },
  {
   "cell_type": "code",
   "execution_count": 14,
   "id": "37d4d2e3-7779-421d-ba04-dcb37f6f20de",
   "metadata": {},
   "outputs": [],
   "source": [
    "var2='[DS,ML,PYTHON]'"
   ]
  },
  {
   "cell_type": "code",
   "execution_count": 15,
   "id": "aad09f07-2225-4c35-b609-1cd6abbee1e0",
   "metadata": {},
   "outputs": [
    {
     "data": {
      "text/plain": [
       "str"
      ]
     },
     "execution_count": 15,
     "metadata": {},
     "output_type": "execute_result"
    }
   ],
   "source": [
    "type(var2)"
   ]
  },
  {
   "cell_type": "code",
   "execution_count": 16,
   "id": "ce2a6f34-09f4-4702-ad65-890d0d736c8c",
   "metadata": {},
   "outputs": [],
   "source": [
    "var3=['DS','ML','PYTHON']"
   ]
  },
  {
   "cell_type": "code",
   "execution_count": 17,
   "id": "2dd2986e-ff37-4fdc-8ae6-d0498e7b7ab9",
   "metadata": {},
   "outputs": [
    {
     "data": {
      "text/plain": [
       "list"
      ]
     },
     "execution_count": 17,
     "metadata": {},
     "output_type": "execute_result"
    }
   ],
   "source": [
    "type(var3)"
   ]
  },
  {
   "cell_type": "code",
   "execution_count": 18,
   "id": "beb3efe4-7d00-453e-86b0-d3c182fcedd5",
   "metadata": {},
   "outputs": [],
   "source": [
    "var4=1"
   ]
  },
  {
   "cell_type": "code",
   "execution_count": 19,
   "id": "62c57641-b307-41f5-9f96-51c699542f17",
   "metadata": {},
   "outputs": [
    {
     "data": {
      "text/plain": [
       "int"
      ]
     },
     "execution_count": 19,
     "metadata": {},
     "output_type": "execute_result"
    }
   ],
   "source": [
    "type(var4)"
   ]
  },
  {
   "cell_type": "markdown",
   "id": "0a7952a8-3727-4616-b760-211820121832",
   "metadata": {},
   "source": [
    "explain the use of the following operators using an example:"
   ]
  },
  {
   "cell_type": "code",
   "execution_count": 20,
   "id": "6ad3f6db-2d0b-4a72-a654-3b04e631b5f5",
   "metadata": {},
   "outputs": [],
   "source": [
    "a=10"
   ]
  },
  {
   "cell_type": "code",
   "execution_count": 21,
   "id": "e8c12915-722d-4242-b959-14997c302409",
   "metadata": {},
   "outputs": [],
   "source": [
    "b=2"
   ]
  },
  {
   "cell_type": "code",
   "execution_count": 22,
   "id": "33d60e71-440f-475c-8509-dc9fc6940fc7",
   "metadata": {},
   "outputs": [],
   "source": [
    "c=a/b"
   ]
  },
  {
   "cell_type": "code",
   "execution_count": 23,
   "id": "dca3d5ea-c3b8-4730-8be5-112c45890a4e",
   "metadata": {},
   "outputs": [
    {
     "name": "stdout",
     "output_type": "stream",
     "text": [
      "5.0\n"
     ]
    }
   ],
   "source": [
    "print(c)"
   ]
  },
  {
   "cell_type": "code",
   "execution_count": 24,
   "id": "9b4cea43-1006-43b6-b01d-ce455db0751a",
   "metadata": {},
   "outputs": [],
   "source": [
    "x=10"
   ]
  },
  {
   "cell_type": "code",
   "execution_count": 25,
   "id": "76c41833-4f34-4383-909c-6cc0b4fbb009",
   "metadata": {},
   "outputs": [],
   "source": [
    "y=5"
   ]
  },
  {
   "cell_type": "code",
   "execution_count": 26,
   "id": "199d9e08-695a-49b2-b298-f4556209f98c",
   "metadata": {},
   "outputs": [],
   "source": [
    "z=x%y"
   ]
  },
  {
   "cell_type": "code",
   "execution_count": 27,
   "id": "853872ac-dc18-4912-895f-065e4f876ca6",
   "metadata": {},
   "outputs": [
    {
     "name": "stdout",
     "output_type": "stream",
     "text": [
      "0\n"
     ]
    }
   ],
   "source": [
    "print(z)"
   ]
  },
  {
   "cell_type": "code",
   "execution_count": 28,
   "id": "3cd30906-cb0b-44c5-9baf-25dac072d4bd",
   "metadata": {},
   "outputs": [],
   "source": [
    "v=2"
   ]
  },
  {
   "cell_type": "code",
   "execution_count": 29,
   "id": "eede6490-eee2-49ba-b010-0a9d5907976c",
   "metadata": {},
   "outputs": [],
   "source": [
    "s=3"
   ]
  },
  {
   "cell_type": "code",
   "execution_count": 30,
   "id": "2712f22b-c511-41b5-b9fd-bf313c9f6ddd",
   "metadata": {},
   "outputs": [],
   "source": [
    "k=v//s"
   ]
  },
  {
   "cell_type": "code",
   "execution_count": 31,
   "id": "7756f9f8-8691-473b-865d-ac21c0cb924c",
   "metadata": {},
   "outputs": [
    {
     "name": "stdout",
     "output_type": "stream",
     "text": [
      "0\n"
     ]
    }
   ],
   "source": [
    "print(k)"
   ]
  },
  {
   "cell_type": "code",
   "execution_count": 32,
   "id": "31dc4864-2a8d-4e9a-8e86-17ee595c6557",
   "metadata": {},
   "outputs": [],
   "source": [
    "e=2"
   ]
  },
  {
   "cell_type": "code",
   "execution_count": 33,
   "id": "09fbcbbc-996a-43b6-b4cb-ff00fdbc7ce7",
   "metadata": {},
   "outputs": [],
   "source": [
    "f=3"
   ]
  },
  {
   "cell_type": "code",
   "execution_count": 34,
   "id": "0921b892-8d18-448e-a76e-06b4137629b7",
   "metadata": {},
   "outputs": [],
   "source": [
    "l=e**f"
   ]
  },
  {
   "cell_type": "code",
   "execution_count": 35,
   "id": "87320ca7-1dde-4fdb-a8e5-4409c15724dc",
   "metadata": {},
   "outputs": [
    {
     "name": "stdout",
     "output_type": "stream",
     "text": [
      "8\n"
     ]
    }
   ],
   "source": [
    "print(l)"
   ]
  },
  {
   "cell_type": "markdown",
   "id": "29d59015-a818-4267-8d9a-eac293e0ef50",
   "metadata": {},
   "source": [
    "create a list of length 10 of your choice containing multiple types of data. using for loop print the element and its datatype"
   ]
  },
  {
   "cell_type": "code",
   "execution_count": 36,
   "id": "d097d31b-b35a-4769-a8fe-2d9793570065",
   "metadata": {},
   "outputs": [],
   "source": [
    "w=[2,4,5,6,\"vaibhav\",True,63.2,6+8j,89,56.3]"
   ]
  },
  {
   "cell_type": "code",
   "execution_count": 54,
   "id": "096e1589-3eab-440f-9acb-b8d4a94c340b",
   "metadata": {},
   "outputs": [
    {
     "name": "stdout",
     "output_type": "stream",
     "text": [
      "<class 'int'>\n",
      "2\n",
      "<class 'int'>\n",
      "4\n",
      "<class 'int'>\n",
      "5\n",
      "<class 'int'>\n",
      "6\n",
      "<class 'str'>\n",
      "vaibhav\n",
      "<class 'bool'>\n",
      "True\n",
      "<class 'float'>\n",
      "63.2\n",
      "<class 'complex'>\n",
      "(6+8j)\n",
      "<class 'int'>\n",
      "89\n",
      "<class 'float'>\n",
      "56.3\n"
     ]
    }
   ],
   "source": [
    "for i in w:\n",
    "    print(type(i))\n",
    "    if i==10:\n",
    "        continue\n",
    "    print(i)"
   ]
  },
  {
   "cell_type": "markdown",
   "id": "29da66af-ffca-4a3a-bf37-1a1e9b0c9fdc",
   "metadata": {},
   "source": [
    "create a list containing 25 int type data. using for loop and if-else condition print if the element is divisible by 3 or not"
   ]
  },
  {
   "cell_type": "code",
   "execution_count": 60,
   "id": "d2932b41-da09-41be-9d67-d66e69ec32cc",
   "metadata": {},
   "outputs": [
    {
     "name": "stdout",
     "output_type": "stream",
     "text": [
      "1 is not divisible by 3.\n",
      "2 is not divisible by 3.\n",
      "3 is divisible by 3.\n",
      "4 is not divisible by 3.\n",
      "5 is not divisible by 3.\n",
      "6 is divisible by 3.\n",
      "7 is not divisible by 3.\n",
      "8 is not divisible by 3.\n",
      "9 is divisible by 3.\n",
      "10 is not divisible by 3.\n",
      "11 is not divisible by 3.\n",
      "12 is divisible by 3.\n",
      "13 is not divisible by 3.\n",
      "14 is not divisible by 3.\n",
      "15 is divisible by 3.\n",
      "16 is not divisible by 3.\n",
      "17 is not divisible by 3.\n",
      "18 is divisible by 3.\n",
      "19 is not divisible by 3.\n",
      "20 is not divisible by 3.\n",
      "21 is divisible by 3.\n",
      "22 is not divisible by 3.\n",
      "23 is not divisible by 3.\n",
      "24 is divisible by 3.\n",
      "25 is not divisible by 3.\n"
     ]
    }
   ],
   "source": [
    "# Create a list of 25 integers\n",
    "numbers = list(range(1, 26))\n",
    "\n",
    "# Use a for loop to iterate over the list\n",
    "for num in numbers:\n",
    "    # Use an if-else condition to check divisibility by 3\n",
    "    if num % 3 == 0:\n",
    "        print(f\"{num} is divisible by 3.\")\n",
    "    else:\n",
    "        print(f\"{num} is not divisible by 3.\")\n"
   ]
  },
  {
   "cell_type": "markdown",
   "id": "2b82450c-e8f5-4e5e-b8ca-fa505649bda6",
   "metadata": {},
   "source": []
  }
 ],
 "metadata": {
  "kernelspec": {
   "display_name": "Python 3 (ipykernel)",
   "language": "python",
   "name": "python3"
  },
  "language_info": {
   "codemirror_mode": {
    "name": "ipython",
    "version": 3
   },
   "file_extension": ".py",
   "mimetype": "text/x-python",
   "name": "python",
   "nbconvert_exporter": "python",
   "pygments_lexer": "ipython3",
   "version": "3.10.8"
  }
 },
 "nbformat": 4,
 "nbformat_minor": 5
}
